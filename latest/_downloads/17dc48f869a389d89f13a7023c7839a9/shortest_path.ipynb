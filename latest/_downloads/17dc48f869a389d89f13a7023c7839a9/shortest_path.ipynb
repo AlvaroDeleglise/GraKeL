{
  "metadata": {
    "kernelspec": {
      "name": "python3",
      "language": "python",
      "display_name": "Python 3"
    },
    "language_info": {
      "mimetype": "text/x-python",
      "name": "python",
      "codemirror_mode": {
        "name": "ipython",
        "version": 3
      },
      "nbconvert_exporter": "python",
      "pygments_lexer": "ipython3",
      "file_extension": ".py",
      "version": "3.5.10"
    }
  },
  "cells": [
    {
      "metadata": {
        "collapsed": false
      },
      "cell_type": "code",
      "execution_count": null,
      "source": [
        "%matplotlib inline"
      ],
      "outputs": []
    },
    {
      "metadata": {},
      "cell_type": "markdown",
      "source": [
        "\n# Graph classification on MUTAG using the shortest path kernel.\n\nScript makes use of :class:`grakel.ShortestPath`\n\n"
      ]
    },
    {
      "metadata": {
        "collapsed": false
      },
      "cell_type": "code",
      "execution_count": null,
      "source": [
        "from __future__ import print_function\nprint(__doc__)\n\nimport numpy as np\n\nfrom sklearn.model_selection import train_test_split\nfrom sklearn.svm import SVC\nfrom sklearn.metrics import accuracy_score\n\nfrom grakel.datasets import fetch_dataset\nfrom grakel.kernels import ShortestPath\n\n# Loads the MUTAG dataset\nMUTAG = fetch_dataset(\"MUTAG\", verbose=False)\nG, y = MUTAG.data, MUTAG.target\n\n# Splits the dataset into a training and a test set\nG_train, G_test, y_train, y_test = train_test_split(G, y, test_size=0.1, random_state=42)\n\n# Uses the shortest path kernel to generate the kernel matrices\ngk = ShortestPath(normalize=True)\nK_train = gk.fit_transform(G_train)\nK_test = gk.transform(G_test)\n\n# Uses the SVM classifier to perform classification\nclf = SVC(kernel=\"precomputed\")\nclf.fit(K_train, y_train)\ny_pred = clf.predict(K_test)\n\n# Computes and prints the classification accuracy\nacc = accuracy_score(y_test, y_pred)\nprint(\"Accuracy:\", str(round(acc*100, 2)) + \"%\")"
      ],
      "outputs": []
    }
  ],
  "nbformat_minor": 0,
  "nbformat": 4
}